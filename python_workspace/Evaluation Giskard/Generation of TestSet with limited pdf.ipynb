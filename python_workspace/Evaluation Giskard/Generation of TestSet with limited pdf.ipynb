{
 "cells": [
  {
   "cell_type": "code",
   "execution_count": 1,
   "metadata": {},
   "outputs": [
    {
     "name": "stdout",
     "output_type": "stream",
     "text": [
      "Requirement already satisfied: giskard[llm]==2.12.0 in /home/guillaume/.cache/pypoetry/virtualenvs/forestbot-QnTDFiWY-py3.10/lib/python3.10/site-packages (2.12.0)\n",
      "Requirement already satisfied: cloudpickle>=1.1.1 in /home/guillaume/.cache/pypoetry/virtualenvs/forestbot-QnTDFiWY-py3.10/lib/python3.10/site-packages (from giskard[llm]==2.12.0) (3.0.0)\n",
      "Requirement already satisfied: zstandard>=0.10.0 in /home/guillaume/.cache/pypoetry/virtualenvs/forestbot-QnTDFiWY-py3.10/lib/python3.10/site-packages (from giskard[llm]==2.12.0) (0.22.0)\n",
      "Requirement already satisfied: mlflow-skinny>=2 in /home/guillaume/.cache/pypoetry/virtualenvs/forestbot-QnTDFiWY-py3.10/lib/python3.10/site-packages (from giskard[llm]==2.12.0) (2.12.2)\n",
      "Requirement already satisfied: numpy>=1.22.0 in /home/guillaume/.cache/pypoetry/virtualenvs/forestbot-QnTDFiWY-py3.10/lib/python3.10/site-packages (from giskard[llm]==2.12.0) (1.26.4)\n",
      "Requirement already satisfied: scikit-learn>=1.0 in /home/guillaume/.cache/pypoetry/virtualenvs/forestbot-QnTDFiWY-py3.10/lib/python3.10/site-packages (from giskard[llm]==2.12.0) (1.4.2)\n",
      "Requirement already satisfied: scipy<1.12.0,>=1.7.3 in /home/guillaume/.cache/pypoetry/virtualenvs/forestbot-QnTDFiWY-py3.10/lib/python3.10/site-packages (from giskard[llm]==2.12.0) (1.11.4)\n",
      "Requirement already satisfied: mixpanel>=4.4.0 in /home/guillaume/.cache/pypoetry/virtualenvs/forestbot-QnTDFiWY-py3.10/lib/python3.10/site-packages (from giskard[llm]==2.12.0) (4.10.1)\n",
      "Requirement already satisfied: requests>=2.19 in /home/guillaume/.cache/pypoetry/virtualenvs/forestbot-QnTDFiWY-py3.10/lib/python3.10/site-packages (from giskard[llm]==2.12.0) (2.31.0)\n",
      "Requirement already satisfied: pydantic<3,>1 in /home/guillaume/.cache/pypoetry/virtualenvs/forestbot-QnTDFiWY-py3.10/lib/python3.10/site-packages (from giskard[llm]==2.12.0) (2.7.1)\n",
      "Requirement already satisfied: pandas>=1.3.4 in /home/guillaume/.cache/pypoetry/virtualenvs/forestbot-QnTDFiWY-py3.10/lib/python3.10/site-packages (from giskard[llm]==2.12.0) (2.2.2)\n",
      "Requirement already satisfied: xxhash>=3.2.0 in /home/guillaume/.cache/pypoetry/virtualenvs/forestbot-QnTDFiWY-py3.10/lib/python3.10/site-packages (from giskard[llm]==2.12.0) (3.4.1)\n",
      "Requirement already satisfied: langdetect>=1.0.9 in /home/guillaume/.cache/pypoetry/virtualenvs/forestbot-QnTDFiWY-py3.10/lib/python3.10/site-packages (from giskard[llm]==2.12.0) (1.0.9)\n",
      "Requirement already satisfied: chardet in /home/guillaume/.cache/pypoetry/virtualenvs/forestbot-QnTDFiWY-py3.10/lib/python3.10/site-packages (from giskard[llm]==2.12.0) (5.2.0)\n",
      "Requirement already satisfied: jinja2>=3 in /home/guillaume/.cache/pypoetry/virtualenvs/forestbot-QnTDFiWY-py3.10/lib/python3.10/site-packages (from giskard[llm]==2.12.0) (3.1.3)\n",
      "Requirement already satisfied: requests-toolbelt>=0.9.1 in /home/guillaume/.cache/pypoetry/virtualenvs/forestbot-QnTDFiWY-py3.10/lib/python3.10/site-packages (from giskard[llm]==2.12.0) (1.0.0)\n",
      "Requirement already satisfied: setuptools in /home/guillaume/.cache/pypoetry/virtualenvs/forestbot-QnTDFiWY-py3.10/lib/python3.10/site-packages (from giskard[llm]==2.12.0) (69.5.1)\n",
      "Requirement already satisfied: typing-extensions in /home/guillaume/.cache/pypoetry/virtualenvs/forestbot-QnTDFiWY-py3.10/lib/python3.10/site-packages (from giskard[llm]==2.12.0) (4.11.0)\n",
      "Requirement already satisfied: pyyaml in /home/guillaume/.cache/pypoetry/virtualenvs/forestbot-QnTDFiWY-py3.10/lib/python3.10/site-packages (from giskard[llm]==2.12.0) (6.0.1)\n",
      "Requirement already satisfied: packaging in /home/guillaume/.cache/pypoetry/virtualenvs/forestbot-QnTDFiWY-py3.10/lib/python3.10/site-packages (from giskard[llm]==2.12.0) (23.2)\n",
      "Requirement already satisfied: markdown in /home/guillaume/.cache/pypoetry/virtualenvs/forestbot-QnTDFiWY-py3.10/lib/python3.10/site-packages (from giskard[llm]==2.12.0) (3.6)\n",
      "Requirement already satisfied: colorama in /home/guillaume/.cache/pypoetry/virtualenvs/forestbot-QnTDFiWY-py3.10/lib/python3.10/site-packages (from giskard[llm]==2.12.0) (0.4.6)\n",
      "Requirement already satisfied: num2words>=0.5.13 in /home/guillaume/.cache/pypoetry/virtualenvs/forestbot-QnTDFiWY-py3.10/lib/python3.10/site-packages (from giskard[llm]==2.12.0) (0.5.13)\n",
      "Requirement already satisfied: griffe>=0.36.9 in /home/guillaume/.cache/pypoetry/virtualenvs/forestbot-QnTDFiWY-py3.10/lib/python3.10/site-packages (from giskard[llm]==2.12.0) (0.45.0)\n",
      "Requirement already satisfied: sentry-sdk>=1.40.5 in /home/guillaume/.cache/pypoetry/virtualenvs/forestbot-QnTDFiWY-py3.10/lib/python3.10/site-packages (from giskard[llm]==2.12.0) (2.1.1)\n",
      "Requirement already satisfied: openai in /home/guillaume/.cache/pypoetry/virtualenvs/forestbot-QnTDFiWY-py3.10/lib/python3.10/site-packages (from giskard[llm]==2.12.0) (1.23.6)\n",
      "Requirement already satisfied: evaluate>=0.4.1 in /home/guillaume/.cache/pypoetry/virtualenvs/forestbot-QnTDFiWY-py3.10/lib/python3.10/site-packages (from giskard[llm]==2.12.0) (0.4.2)\n",
      "Requirement already satisfied: bert-score>=0.3.13 in /home/guillaume/.cache/pypoetry/virtualenvs/forestbot-QnTDFiWY-py3.10/lib/python3.10/site-packages (from giskard[llm]==2.12.0) (0.3.13)\n",
      "Requirement already satisfied: tenacity>=4.11.0 in /home/guillaume/.cache/pypoetry/virtualenvs/forestbot-QnTDFiWY-py3.10/lib/python3.10/site-packages (from giskard[llm]==2.12.0) (8.2.3)\n",
      "Requirement already satisfied: faiss-cpu>=1.7.4 in /home/guillaume/.cache/pypoetry/virtualenvs/forestbot-QnTDFiWY-py3.10/lib/python3.10/site-packages (from giskard[llm]==2.12.0) (1.8.0)\n",
      "Requirement already satisfied: bokeh>=3.3.4 in /home/guillaume/.cache/pypoetry/virtualenvs/forestbot-QnTDFiWY-py3.10/lib/python3.10/site-packages (from giskard[llm]==2.12.0) (3.4.1)\n",
      "Requirement already satisfied: umap-learn>=0.5.5 in /home/guillaume/.cache/pypoetry/virtualenvs/forestbot-QnTDFiWY-py3.10/lib/python3.10/site-packages (from giskard[llm]==2.12.0) (0.5.6)\n",
      "Requirement already satisfied: torch>=1.0.0 in /home/guillaume/.cache/pypoetry/virtualenvs/forestbot-QnTDFiWY-py3.10/lib/python3.10/site-packages (from bert-score>=0.3.13->giskard[llm]==2.12.0) (2.3.0)\n",
      "Requirement already satisfied: transformers>=3.0.0 in /home/guillaume/.cache/pypoetry/virtualenvs/forestbot-QnTDFiWY-py3.10/lib/python3.10/site-packages (from bert-score>=0.3.13->giskard[llm]==2.12.0) (4.40.2)\n",
      "Requirement already satisfied: tqdm>=4.31.1 in /home/guillaume/.cache/pypoetry/virtualenvs/forestbot-QnTDFiWY-py3.10/lib/python3.10/site-packages (from bert-score>=0.3.13->giskard[llm]==2.12.0) (4.66.2)\n",
      "Requirement already satisfied: matplotlib in /home/guillaume/.cache/pypoetry/virtualenvs/forestbot-QnTDFiWY-py3.10/lib/python3.10/site-packages (from bert-score>=0.3.13->giskard[llm]==2.12.0) (3.8.4)\n",
      "Requirement already satisfied: contourpy>=1.2 in /home/guillaume/.cache/pypoetry/virtualenvs/forestbot-QnTDFiWY-py3.10/lib/python3.10/site-packages (from bokeh>=3.3.4->giskard[llm]==2.12.0) (1.2.1)\n",
      "Requirement already satisfied: pillow>=7.1.0 in /home/guillaume/.cache/pypoetry/virtualenvs/forestbot-QnTDFiWY-py3.10/lib/python3.10/site-packages (from bokeh>=3.3.4->giskard[llm]==2.12.0) (10.3.0)\n",
      "Requirement already satisfied: tornado>=6.2 in /home/guillaume/.cache/pypoetry/virtualenvs/forestbot-QnTDFiWY-py3.10/lib/python3.10/site-packages (from bokeh>=3.3.4->giskard[llm]==2.12.0) (6.4)\n",
      "Requirement already satisfied: xyzservices>=2021.09.1 in /home/guillaume/.cache/pypoetry/virtualenvs/forestbot-QnTDFiWY-py3.10/lib/python3.10/site-packages (from bokeh>=3.3.4->giskard[llm]==2.12.0) (2024.4.0)\n",
      "Requirement already satisfied: datasets>=2.0.0 in /home/guillaume/.cache/pypoetry/virtualenvs/forestbot-QnTDFiWY-py3.10/lib/python3.10/site-packages (from evaluate>=0.4.1->giskard[llm]==2.12.0) (2.19.0)\n",
      "Requirement already satisfied: dill in /home/guillaume/.cache/pypoetry/virtualenvs/forestbot-QnTDFiWY-py3.10/lib/python3.10/site-packages (from evaluate>=0.4.1->giskard[llm]==2.12.0) (0.3.8)\n",
      "Requirement already satisfied: multiprocess in /home/guillaume/.cache/pypoetry/virtualenvs/forestbot-QnTDFiWY-py3.10/lib/python3.10/site-packages (from evaluate>=0.4.1->giskard[llm]==2.12.0) (0.70.16)\n",
      "Requirement already satisfied: fsspec[http]>=2021.05.0 in /home/guillaume/.cache/pypoetry/virtualenvs/forestbot-QnTDFiWY-py3.10/lib/python3.10/site-packages (from evaluate>=0.4.1->giskard[llm]==2.12.0) (2024.3.1)\n",
      "Requirement already satisfied: huggingface-hub>=0.7.0 in /home/guillaume/.cache/pypoetry/virtualenvs/forestbot-QnTDFiWY-py3.10/lib/python3.10/site-packages (from evaluate>=0.4.1->giskard[llm]==2.12.0) (0.22.2)\n",
      "Requirement already satisfied: MarkupSafe>=2.0 in /home/guillaume/.cache/pypoetry/virtualenvs/forestbot-QnTDFiWY-py3.10/lib/python3.10/site-packages (from jinja2>=3->giskard[llm]==2.12.0) (2.1.5)\n",
      "Requirement already satisfied: six in /home/guillaume/.cache/pypoetry/virtualenvs/forestbot-QnTDFiWY-py3.10/lib/python3.10/site-packages (from langdetect>=1.0.9->giskard[llm]==2.12.0) (1.16.0)\n",
      "Requirement already satisfied: urllib3 in /home/guillaume/.cache/pypoetry/virtualenvs/forestbot-QnTDFiWY-py3.10/lib/python3.10/site-packages (from mixpanel>=4.4.0->giskard[llm]==2.12.0) (2.2.1)\n",
      "Requirement already satisfied: click<9,>=7.0 in /home/guillaume/.cache/pypoetry/virtualenvs/forestbot-QnTDFiWY-py3.10/lib/python3.10/site-packages (from mlflow-skinny>=2->giskard[llm]==2.12.0) (8.1.7)\n",
      "Requirement already satisfied: entrypoints<1 in /home/guillaume/.cache/pypoetry/virtualenvs/forestbot-QnTDFiWY-py3.10/lib/python3.10/site-packages (from mlflow-skinny>=2->giskard[llm]==2.12.0) (0.4)\n",
      "Requirement already satisfied: gitpython<4,>=3.1.9 in /home/guillaume/.cache/pypoetry/virtualenvs/forestbot-QnTDFiWY-py3.10/lib/python3.10/site-packages (from mlflow-skinny>=2->giskard[llm]==2.12.0) (3.1.43)\n",
      "Requirement already satisfied: importlib-metadata!=4.7.0,<8,>=3.7.0 in /home/guillaume/.cache/pypoetry/virtualenvs/forestbot-QnTDFiWY-py3.10/lib/python3.10/site-packages (from mlflow-skinny>=2->giskard[llm]==2.12.0) (7.0.0)\n",
      "Requirement already satisfied: protobuf<5,>=3.12.0 in /home/guillaume/.cache/pypoetry/virtualenvs/forestbot-QnTDFiWY-py3.10/lib/python3.10/site-packages (from mlflow-skinny>=2->giskard[llm]==2.12.0) (4.25.3)\n",
      "Requirement already satisfied: pytz<2025 in /home/guillaume/.cache/pypoetry/virtualenvs/forestbot-QnTDFiWY-py3.10/lib/python3.10/site-packages (from mlflow-skinny>=2->giskard[llm]==2.12.0) (2024.1)\n",
      "Requirement already satisfied: sqlparse<1,>=0.4.0 in /home/guillaume/.cache/pypoetry/virtualenvs/forestbot-QnTDFiWY-py3.10/lib/python3.10/site-packages (from mlflow-skinny>=2->giskard[llm]==2.12.0) (0.5.0)\n",
      "Requirement already satisfied: docopt>=0.6.2 in /home/guillaume/.cache/pypoetry/virtualenvs/forestbot-QnTDFiWY-py3.10/lib/python3.10/site-packages (from num2words>=0.5.13->giskard[llm]==2.12.0) (0.6.2)\n",
      "Requirement already satisfied: python-dateutil>=2.8.2 in /home/guillaume/.cache/pypoetry/virtualenvs/forestbot-QnTDFiWY-py3.10/lib/python3.10/site-packages (from pandas>=1.3.4->giskard[llm]==2.12.0) (2.9.0.post0)\n",
      "Requirement already satisfied: tzdata>=2022.7 in /home/guillaume/.cache/pypoetry/virtualenvs/forestbot-QnTDFiWY-py3.10/lib/python3.10/site-packages (from pandas>=1.3.4->giskard[llm]==2.12.0) (2024.1)\n",
      "Requirement already satisfied: annotated-types>=0.4.0 in /home/guillaume/.cache/pypoetry/virtualenvs/forestbot-QnTDFiWY-py3.10/lib/python3.10/site-packages (from pydantic<3,>1->giskard[llm]==2.12.0) (0.6.0)\n",
      "Requirement already satisfied: pydantic-core==2.18.2 in /home/guillaume/.cache/pypoetry/virtualenvs/forestbot-QnTDFiWY-py3.10/lib/python3.10/site-packages (from pydantic<3,>1->giskard[llm]==2.12.0) (2.18.2)\n",
      "Requirement already satisfied: charset-normalizer<4,>=2 in /home/guillaume/.cache/pypoetry/virtualenvs/forestbot-QnTDFiWY-py3.10/lib/python3.10/site-packages (from requests>=2.19->giskard[llm]==2.12.0) (3.3.2)\n",
      "Requirement already satisfied: idna<4,>=2.5 in /home/guillaume/.cache/pypoetry/virtualenvs/forestbot-QnTDFiWY-py3.10/lib/python3.10/site-packages (from requests>=2.19->giskard[llm]==2.12.0) (3.7)\n",
      "Requirement already satisfied: certifi>=2017.4.17 in /home/guillaume/.cache/pypoetry/virtualenvs/forestbot-QnTDFiWY-py3.10/lib/python3.10/site-packages (from requests>=2.19->giskard[llm]==2.12.0) (2024.2.2)\n",
      "Requirement already satisfied: joblib>=1.2.0 in /home/guillaume/.cache/pypoetry/virtualenvs/forestbot-QnTDFiWY-py3.10/lib/python3.10/site-packages (from scikit-learn>=1.0->giskard[llm]==2.12.0) (1.4.0)\n",
      "Requirement already satisfied: threadpoolctl>=2.0.0 in /home/guillaume/.cache/pypoetry/virtualenvs/forestbot-QnTDFiWY-py3.10/lib/python3.10/site-packages (from scikit-learn>=1.0->giskard[llm]==2.12.0) (3.5.0)\n",
      "Requirement already satisfied: numba>=0.51.2 in /home/guillaume/.cache/pypoetry/virtualenvs/forestbot-QnTDFiWY-py3.10/lib/python3.10/site-packages (from umap-learn>=0.5.5->giskard[llm]==2.12.0) (0.59.1)\n",
      "Requirement already satisfied: pynndescent>=0.5 in /home/guillaume/.cache/pypoetry/virtualenvs/forestbot-QnTDFiWY-py3.10/lib/python3.10/site-packages (from umap-learn>=0.5.5->giskard[llm]==2.12.0) (0.5.12)\n",
      "Requirement already satisfied: anyio<5,>=3.5.0 in /home/guillaume/.cache/pypoetry/virtualenvs/forestbot-QnTDFiWY-py3.10/lib/python3.10/site-packages (from openai->giskard[llm]==2.12.0) (4.3.0)\n",
      "Requirement already satisfied: distro<2,>=1.7.0 in /home/guillaume/.cache/pypoetry/virtualenvs/forestbot-QnTDFiWY-py3.10/lib/python3.10/site-packages (from openai->giskard[llm]==2.12.0) (1.9.0)\n",
      "Requirement already satisfied: httpx<1,>=0.23.0 in /home/guillaume/.cache/pypoetry/virtualenvs/forestbot-QnTDFiWY-py3.10/lib/python3.10/site-packages (from openai->giskard[llm]==2.12.0) (0.27.0)\n",
      "Requirement already satisfied: sniffio in /home/guillaume/.cache/pypoetry/virtualenvs/forestbot-QnTDFiWY-py3.10/lib/python3.10/site-packages (from openai->giskard[llm]==2.12.0) (1.3.1)\n",
      "Requirement already satisfied: exceptiongroup>=1.0.2 in /home/guillaume/.cache/pypoetry/virtualenvs/forestbot-QnTDFiWY-py3.10/lib/python3.10/site-packages (from anyio<5,>=3.5.0->openai->giskard[llm]==2.12.0) (1.2.1)\n",
      "Requirement already satisfied: filelock in /home/guillaume/.cache/pypoetry/virtualenvs/forestbot-QnTDFiWY-py3.10/lib/python3.10/site-packages (from datasets>=2.0.0->evaluate>=0.4.1->giskard[llm]==2.12.0) (3.13.4)\n",
      "Requirement already satisfied: pyarrow>=12.0.0 in /home/guillaume/.cache/pypoetry/virtualenvs/forestbot-QnTDFiWY-py3.10/lib/python3.10/site-packages (from datasets>=2.0.0->evaluate>=0.4.1->giskard[llm]==2.12.0) (16.0.0)\n",
      "Requirement already satisfied: pyarrow-hotfix in /home/guillaume/.cache/pypoetry/virtualenvs/forestbot-QnTDFiWY-py3.10/lib/python3.10/site-packages (from datasets>=2.0.0->evaluate>=0.4.1->giskard[llm]==2.12.0) (0.6)\n",
      "Requirement already satisfied: aiohttp in /home/guillaume/.cache/pypoetry/virtualenvs/forestbot-QnTDFiWY-py3.10/lib/python3.10/site-packages (from datasets>=2.0.0->evaluate>=0.4.1->giskard[llm]==2.12.0) (3.9.5)\n",
      "Requirement already satisfied: gitdb<5,>=4.0.1 in /home/guillaume/.cache/pypoetry/virtualenvs/forestbot-QnTDFiWY-py3.10/lib/python3.10/site-packages (from gitpython<4,>=3.1.9->mlflow-skinny>=2->giskard[llm]==2.12.0) (4.0.11)\n",
      "Requirement already satisfied: httpcore==1.* in /home/guillaume/.cache/pypoetry/virtualenvs/forestbot-QnTDFiWY-py3.10/lib/python3.10/site-packages (from httpx<1,>=0.23.0->openai->giskard[llm]==2.12.0) (1.0.5)\n",
      "Requirement already satisfied: h11<0.15,>=0.13 in /home/guillaume/.cache/pypoetry/virtualenvs/forestbot-QnTDFiWY-py3.10/lib/python3.10/site-packages (from httpcore==1.*->httpx<1,>=0.23.0->openai->giskard[llm]==2.12.0) (0.14.0)\n",
      "Requirement already satisfied: zipp>=0.5 in /home/guillaume/.cache/pypoetry/virtualenvs/forestbot-QnTDFiWY-py3.10/lib/python3.10/site-packages (from importlib-metadata!=4.7.0,<8,>=3.7.0->mlflow-skinny>=2->giskard[llm]==2.12.0) (3.18.1)\n",
      "Requirement already satisfied: llvmlite<0.43,>=0.42.0dev0 in /home/guillaume/.cache/pypoetry/virtualenvs/forestbot-QnTDFiWY-py3.10/lib/python3.10/site-packages (from numba>=0.51.2->umap-learn>=0.5.5->giskard[llm]==2.12.0) (0.42.0)\n",
      "Requirement already satisfied: sympy in /home/guillaume/.cache/pypoetry/virtualenvs/forestbot-QnTDFiWY-py3.10/lib/python3.10/site-packages (from torch>=1.0.0->bert-score>=0.3.13->giskard[llm]==2.12.0) (1.12)\n",
      "Requirement already satisfied: networkx in /home/guillaume/.cache/pypoetry/virtualenvs/forestbot-QnTDFiWY-py3.10/lib/python3.10/site-packages (from torch>=1.0.0->bert-score>=0.3.13->giskard[llm]==2.12.0) (3.3)\n",
      "Requirement already satisfied: nvidia-cuda-nvrtc-cu12==12.1.105 in /home/guillaume/.cache/pypoetry/virtualenvs/forestbot-QnTDFiWY-py3.10/lib/python3.10/site-packages (from torch>=1.0.0->bert-score>=0.3.13->giskard[llm]==2.12.0) (12.1.105)\n",
      "Requirement already satisfied: nvidia-cuda-runtime-cu12==12.1.105 in /home/guillaume/.cache/pypoetry/virtualenvs/forestbot-QnTDFiWY-py3.10/lib/python3.10/site-packages (from torch>=1.0.0->bert-score>=0.3.13->giskard[llm]==2.12.0) (12.1.105)\n",
      "Requirement already satisfied: nvidia-cuda-cupti-cu12==12.1.105 in /home/guillaume/.cache/pypoetry/virtualenvs/forestbot-QnTDFiWY-py3.10/lib/python3.10/site-packages (from torch>=1.0.0->bert-score>=0.3.13->giskard[llm]==2.12.0) (12.1.105)\n",
      "Requirement already satisfied: nvidia-cudnn-cu12==8.9.2.26 in /home/guillaume/.cache/pypoetry/virtualenvs/forestbot-QnTDFiWY-py3.10/lib/python3.10/site-packages (from torch>=1.0.0->bert-score>=0.3.13->giskard[llm]==2.12.0) (8.9.2.26)\n",
      "Requirement already satisfied: nvidia-cublas-cu12==12.1.3.1 in /home/guillaume/.cache/pypoetry/virtualenvs/forestbot-QnTDFiWY-py3.10/lib/python3.10/site-packages (from torch>=1.0.0->bert-score>=0.3.13->giskard[llm]==2.12.0) (12.1.3.1)\n",
      "Requirement already satisfied: nvidia-cufft-cu12==11.0.2.54 in /home/guillaume/.cache/pypoetry/virtualenvs/forestbot-QnTDFiWY-py3.10/lib/python3.10/site-packages (from torch>=1.0.0->bert-score>=0.3.13->giskard[llm]==2.12.0) (11.0.2.54)\n",
      "Requirement already satisfied: nvidia-curand-cu12==10.3.2.106 in /home/guillaume/.cache/pypoetry/virtualenvs/forestbot-QnTDFiWY-py3.10/lib/python3.10/site-packages (from torch>=1.0.0->bert-score>=0.3.13->giskard[llm]==2.12.0) (10.3.2.106)\n",
      "Requirement already satisfied: nvidia-cusolver-cu12==11.4.5.107 in /home/guillaume/.cache/pypoetry/virtualenvs/forestbot-QnTDFiWY-py3.10/lib/python3.10/site-packages (from torch>=1.0.0->bert-score>=0.3.13->giskard[llm]==2.12.0) (11.4.5.107)\n",
      "Requirement already satisfied: nvidia-cusparse-cu12==12.1.0.106 in /home/guillaume/.cache/pypoetry/virtualenvs/forestbot-QnTDFiWY-py3.10/lib/python3.10/site-packages (from torch>=1.0.0->bert-score>=0.3.13->giskard[llm]==2.12.0) (12.1.0.106)\n",
      "Requirement already satisfied: nvidia-nccl-cu12==2.20.5 in /home/guillaume/.cache/pypoetry/virtualenvs/forestbot-QnTDFiWY-py3.10/lib/python3.10/site-packages (from torch>=1.0.0->bert-score>=0.3.13->giskard[llm]==2.12.0) (2.20.5)\n",
      "Requirement already satisfied: nvidia-nvtx-cu12==12.1.105 in /home/guillaume/.cache/pypoetry/virtualenvs/forestbot-QnTDFiWY-py3.10/lib/python3.10/site-packages (from torch>=1.0.0->bert-score>=0.3.13->giskard[llm]==2.12.0) (12.1.105)\n",
      "Requirement already satisfied: triton==2.3.0 in /home/guillaume/.cache/pypoetry/virtualenvs/forestbot-QnTDFiWY-py3.10/lib/python3.10/site-packages (from torch>=1.0.0->bert-score>=0.3.13->giskard[llm]==2.12.0) (2.3.0)\n",
      "Requirement already satisfied: nvidia-nvjitlink-cu12 in /home/guillaume/.cache/pypoetry/virtualenvs/forestbot-QnTDFiWY-py3.10/lib/python3.10/site-packages (from nvidia-cusolver-cu12==11.4.5.107->torch>=1.0.0->bert-score>=0.3.13->giskard[llm]==2.12.0) (12.4.127)\n",
      "Requirement already satisfied: regex!=2019.12.17 in /home/guillaume/.cache/pypoetry/virtualenvs/forestbot-QnTDFiWY-py3.10/lib/python3.10/site-packages (from transformers>=3.0.0->bert-score>=0.3.13->giskard[llm]==2.12.0) (2024.4.28)\n",
      "Requirement already satisfied: tokenizers<0.20,>=0.19 in /home/guillaume/.cache/pypoetry/virtualenvs/forestbot-QnTDFiWY-py3.10/lib/python3.10/site-packages (from transformers>=3.0.0->bert-score>=0.3.13->giskard[llm]==2.12.0) (0.19.1)\n",
      "Requirement already satisfied: safetensors>=0.4.1 in /home/guillaume/.cache/pypoetry/virtualenvs/forestbot-QnTDFiWY-py3.10/lib/python3.10/site-packages (from transformers>=3.0.0->bert-score>=0.3.13->giskard[llm]==2.12.0) (0.4.3)\n",
      "Requirement already satisfied: cycler>=0.10 in /home/guillaume/.cache/pypoetry/virtualenvs/forestbot-QnTDFiWY-py3.10/lib/python3.10/site-packages (from matplotlib->bert-score>=0.3.13->giskard[llm]==2.12.0) (0.12.1)\n",
      "Requirement already satisfied: fonttools>=4.22.0 in /home/guillaume/.cache/pypoetry/virtualenvs/forestbot-QnTDFiWY-py3.10/lib/python3.10/site-packages (from matplotlib->bert-score>=0.3.13->giskard[llm]==2.12.0) (4.51.0)\n",
      "Requirement already satisfied: kiwisolver>=1.3.1 in /home/guillaume/.cache/pypoetry/virtualenvs/forestbot-QnTDFiWY-py3.10/lib/python3.10/site-packages (from matplotlib->bert-score>=0.3.13->giskard[llm]==2.12.0) (1.4.5)\n",
      "Requirement already satisfied: pyparsing>=2.3.1 in /home/guillaume/.cache/pypoetry/virtualenvs/forestbot-QnTDFiWY-py3.10/lib/python3.10/site-packages (from matplotlib->bert-score>=0.3.13->giskard[llm]==2.12.0) (3.1.2)\n",
      "Requirement already satisfied: aiosignal>=1.1.2 in /home/guillaume/.cache/pypoetry/virtualenvs/forestbot-QnTDFiWY-py3.10/lib/python3.10/site-packages (from aiohttp->datasets>=2.0.0->evaluate>=0.4.1->giskard[llm]==2.12.0) (1.3.1)\n",
      "Requirement already satisfied: attrs>=17.3.0 in /home/guillaume/.cache/pypoetry/virtualenvs/forestbot-QnTDFiWY-py3.10/lib/python3.10/site-packages (from aiohttp->datasets>=2.0.0->evaluate>=0.4.1->giskard[llm]==2.12.0) (23.2.0)\n",
      "Requirement already satisfied: frozenlist>=1.1.1 in /home/guillaume/.cache/pypoetry/virtualenvs/forestbot-QnTDFiWY-py3.10/lib/python3.10/site-packages (from aiohttp->datasets>=2.0.0->evaluate>=0.4.1->giskard[llm]==2.12.0) (1.4.1)\n",
      "Requirement already satisfied: multidict<7.0,>=4.5 in /home/guillaume/.cache/pypoetry/virtualenvs/forestbot-QnTDFiWY-py3.10/lib/python3.10/site-packages (from aiohttp->datasets>=2.0.0->evaluate>=0.4.1->giskard[llm]==2.12.0) (6.0.5)\n",
      "Requirement already satisfied: yarl<2.0,>=1.0 in /home/guillaume/.cache/pypoetry/virtualenvs/forestbot-QnTDFiWY-py3.10/lib/python3.10/site-packages (from aiohttp->datasets>=2.0.0->evaluate>=0.4.1->giskard[llm]==2.12.0) (1.9.4)\n",
      "Requirement already satisfied: async-timeout<5.0,>=4.0 in /home/guillaume/.cache/pypoetry/virtualenvs/forestbot-QnTDFiWY-py3.10/lib/python3.10/site-packages (from aiohttp->datasets>=2.0.0->evaluate>=0.4.1->giskard[llm]==2.12.0) (4.0.3)\n",
      "Requirement already satisfied: smmap<6,>=3.0.1 in /home/guillaume/.cache/pypoetry/virtualenvs/forestbot-QnTDFiWY-py3.10/lib/python3.10/site-packages (from gitdb<5,>=4.0.1->gitpython<4,>=3.1.9->mlflow-skinny>=2->giskard[llm]==2.12.0) (5.0.1)\n",
      "Requirement already satisfied: mpmath>=0.19 in /home/guillaume/.cache/pypoetry/virtualenvs/forestbot-QnTDFiWY-py3.10/lib/python3.10/site-packages (from sympy->torch>=1.0.0->bert-score>=0.3.13->giskard[llm]==2.12.0) (1.3.0)\n",
      "\n",
      "\u001b[1m[\u001b[0m\u001b[34;49mnotice\u001b[0m\u001b[1;39;49m]\u001b[0m\u001b[39;49m A new release of pip is available: \u001b[0m\u001b[31;49m23.2.1\u001b[0m\u001b[39;49m -> \u001b[0m\u001b[32;49m24.0\u001b[0m\n",
      "\u001b[1m[\u001b[0m\u001b[34;49mnotice\u001b[0m\u001b[1;39;49m]\u001b[0m\u001b[39;49m To update, run: \u001b[0m\u001b[32;49mpip install --upgrade pip\u001b[0m\n",
      "Note: you may need to restart the kernel to use updated packages.\n",
      "Requirement already satisfied: llama-index in /home/guillaume/.cache/pypoetry/virtualenvs/forestbot-QnTDFiWY-py3.10/lib/python3.10/site-packages (0.10.37)\n",
      "Requirement already satisfied: PyMuPDF in /home/guillaume/.cache/pypoetry/virtualenvs/forestbot-QnTDFiWY-py3.10/lib/python3.10/site-packages (1.24.4)\n",
      "Requirement already satisfied: llama-index-agent-openai<0.3.0,>=0.1.4 in /home/guillaume/.cache/pypoetry/virtualenvs/forestbot-QnTDFiWY-py3.10/lib/python3.10/site-packages (from llama-index) (0.2.5)\n",
      "Requirement already satisfied: llama-index-cli<0.2.0,>=0.1.2 in /home/guillaume/.cache/pypoetry/virtualenvs/forestbot-QnTDFiWY-py3.10/lib/python3.10/site-packages (from llama-index) (0.1.12)\n",
      "Requirement already satisfied: llama-index-core<0.11.0,>=0.10.35 in /home/guillaume/.cache/pypoetry/virtualenvs/forestbot-QnTDFiWY-py3.10/lib/python3.10/site-packages (from llama-index) (0.10.37.post1)\n",
      "Requirement already satisfied: llama-index-embeddings-openai<0.2.0,>=0.1.5 in /home/guillaume/.cache/pypoetry/virtualenvs/forestbot-QnTDFiWY-py3.10/lib/python3.10/site-packages (from llama-index) (0.1.10)\n",
      "Requirement already satisfied: llama-index-indices-managed-llama-cloud<0.2.0,>=0.1.2 in /home/guillaume/.cache/pypoetry/virtualenvs/forestbot-QnTDFiWY-py3.10/lib/python3.10/site-packages (from llama-index) (0.1.6)\n",
      "Requirement already satisfied: llama-index-legacy<0.10.0,>=0.9.48 in /home/guillaume/.cache/pypoetry/virtualenvs/forestbot-QnTDFiWY-py3.10/lib/python3.10/site-packages (from llama-index) (0.9.48)\n",
      "Requirement already satisfied: llama-index-llms-openai<0.2.0,>=0.1.13 in /home/guillaume/.cache/pypoetry/virtualenvs/forestbot-QnTDFiWY-py3.10/lib/python3.10/site-packages (from llama-index) (0.1.20)\n",
      "Requirement already satisfied: llama-index-multi-modal-llms-openai<0.2.0,>=0.1.3 in /home/guillaume/.cache/pypoetry/virtualenvs/forestbot-QnTDFiWY-py3.10/lib/python3.10/site-packages (from llama-index) (0.1.6)\n",
      "Requirement already satisfied: llama-index-program-openai<0.2.0,>=0.1.3 in /home/guillaume/.cache/pypoetry/virtualenvs/forestbot-QnTDFiWY-py3.10/lib/python3.10/site-packages (from llama-index) (0.1.6)\n",
      "Requirement already satisfied: llama-index-question-gen-openai<0.2.0,>=0.1.2 in /home/guillaume/.cache/pypoetry/virtualenvs/forestbot-QnTDFiWY-py3.10/lib/python3.10/site-packages (from llama-index) (0.1.3)\n",
      "Requirement already satisfied: llama-index-readers-file<0.2.0,>=0.1.4 in /home/guillaume/.cache/pypoetry/virtualenvs/forestbot-QnTDFiWY-py3.10/lib/python3.10/site-packages (from llama-index) (0.1.22)\n",
      "Requirement already satisfied: llama-index-readers-llama-parse<0.2.0,>=0.1.2 in /home/guillaume/.cache/pypoetry/virtualenvs/forestbot-QnTDFiWY-py3.10/lib/python3.10/site-packages (from llama-index) (0.1.4)\n",
      "Requirement already satisfied: PyMuPDFb==1.24.3 in /home/guillaume/.cache/pypoetry/virtualenvs/forestbot-QnTDFiWY-py3.10/lib/python3.10/site-packages (from PyMuPDF) (1.24.3)\n",
      "Requirement already satisfied: openai>=1.14.0 in /home/guillaume/.cache/pypoetry/virtualenvs/forestbot-QnTDFiWY-py3.10/lib/python3.10/site-packages (from llama-index-agent-openai<0.3.0,>=0.1.4->llama-index) (1.23.6)\n",
      "Requirement already satisfied: PyYAML>=6.0.1 in /home/guillaume/.cache/pypoetry/virtualenvs/forestbot-QnTDFiWY-py3.10/lib/python3.10/site-packages (from llama-index-core<0.11.0,>=0.10.35->llama-index) (6.0.1)\n",
      "Requirement already satisfied: SQLAlchemy[asyncio]>=1.4.49 in /home/guillaume/.cache/pypoetry/virtualenvs/forestbot-QnTDFiWY-py3.10/lib/python3.10/site-packages (from llama-index-core<0.11.0,>=0.10.35->llama-index) (2.0.29)\n",
      "Requirement already satisfied: aiohttp<4.0.0,>=3.8.6 in /home/guillaume/.cache/pypoetry/virtualenvs/forestbot-QnTDFiWY-py3.10/lib/python3.10/site-packages (from llama-index-core<0.11.0,>=0.10.35->llama-index) (3.9.5)\n",
      "Requirement already satisfied: dataclasses-json in /home/guillaume/.cache/pypoetry/virtualenvs/forestbot-QnTDFiWY-py3.10/lib/python3.10/site-packages (from llama-index-core<0.11.0,>=0.10.35->llama-index) (0.6.5)\n",
      "Requirement already satisfied: deprecated>=1.2.9.3 in /home/guillaume/.cache/pypoetry/virtualenvs/forestbot-QnTDFiWY-py3.10/lib/python3.10/site-packages (from llama-index-core<0.11.0,>=0.10.35->llama-index) (1.2.14)\n",
      "Requirement already satisfied: dirtyjson<2.0.0,>=1.0.8 in /home/guillaume/.cache/pypoetry/virtualenvs/forestbot-QnTDFiWY-py3.10/lib/python3.10/site-packages (from llama-index-core<0.11.0,>=0.10.35->llama-index) (1.0.8)\n",
      "Requirement already satisfied: fsspec>=2023.5.0 in /home/guillaume/.cache/pypoetry/virtualenvs/forestbot-QnTDFiWY-py3.10/lib/python3.10/site-packages (from llama-index-core<0.11.0,>=0.10.35->llama-index) (2024.3.1)\n",
      "Requirement already satisfied: httpx in /home/guillaume/.cache/pypoetry/virtualenvs/forestbot-QnTDFiWY-py3.10/lib/python3.10/site-packages (from llama-index-core<0.11.0,>=0.10.35->llama-index) (0.27.0)\n",
      "Requirement already satisfied: jsonpath-ng<2.0.0,>=1.6.0 in /home/guillaume/.cache/pypoetry/virtualenvs/forestbot-QnTDFiWY-py3.10/lib/python3.10/site-packages (from llama-index-core<0.11.0,>=0.10.35->llama-index) (1.6.1)\n",
      "Requirement already satisfied: llamaindex-py-client<0.2.0,>=0.1.18 in /home/guillaume/.cache/pypoetry/virtualenvs/forestbot-QnTDFiWY-py3.10/lib/python3.10/site-packages (from llama-index-core<0.11.0,>=0.10.35->llama-index) (0.1.19)\n",
      "Requirement already satisfied: nest-asyncio<2.0.0,>=1.5.8 in /home/guillaume/.cache/pypoetry/virtualenvs/forestbot-QnTDFiWY-py3.10/lib/python3.10/site-packages (from llama-index-core<0.11.0,>=0.10.35->llama-index) (1.6.0)\n",
      "Requirement already satisfied: networkx>=3.0 in /home/guillaume/.cache/pypoetry/virtualenvs/forestbot-QnTDFiWY-py3.10/lib/python3.10/site-packages (from llama-index-core<0.11.0,>=0.10.35->llama-index) (3.3)\n",
      "Requirement already satisfied: nltk<4.0.0,>=3.8.1 in /home/guillaume/.cache/pypoetry/virtualenvs/forestbot-QnTDFiWY-py3.10/lib/python3.10/site-packages (from llama-index-core<0.11.0,>=0.10.35->llama-index) (3.8.1)\n",
      "Requirement already satisfied: numpy in /home/guillaume/.cache/pypoetry/virtualenvs/forestbot-QnTDFiWY-py3.10/lib/python3.10/site-packages (from llama-index-core<0.11.0,>=0.10.35->llama-index) (1.26.4)\n",
      "Requirement already satisfied: pandas in /home/guillaume/.cache/pypoetry/virtualenvs/forestbot-QnTDFiWY-py3.10/lib/python3.10/site-packages (from llama-index-core<0.11.0,>=0.10.35->llama-index) (2.2.2)\n",
      "Requirement already satisfied: pillow>=9.0.0 in /home/guillaume/.cache/pypoetry/virtualenvs/forestbot-QnTDFiWY-py3.10/lib/python3.10/site-packages (from llama-index-core<0.11.0,>=0.10.35->llama-index) (10.3.0)\n",
      "Requirement already satisfied: requests>=2.31.0 in /home/guillaume/.cache/pypoetry/virtualenvs/forestbot-QnTDFiWY-py3.10/lib/python3.10/site-packages (from llama-index-core<0.11.0,>=0.10.35->llama-index) (2.31.0)\n",
      "Requirement already satisfied: spacy<4.0.0,>=3.7.1 in /home/guillaume/.cache/pypoetry/virtualenvs/forestbot-QnTDFiWY-py3.10/lib/python3.10/site-packages (from llama-index-core<0.11.0,>=0.10.35->llama-index) (3.7.4)\n",
      "Requirement already satisfied: tenacity<9.0.0,>=8.2.0 in /home/guillaume/.cache/pypoetry/virtualenvs/forestbot-QnTDFiWY-py3.10/lib/python3.10/site-packages (from llama-index-core<0.11.0,>=0.10.35->llama-index) (8.2.3)\n",
      "Requirement already satisfied: tiktoken>=0.3.3 in /home/guillaume/.cache/pypoetry/virtualenvs/forestbot-QnTDFiWY-py3.10/lib/python3.10/site-packages (from llama-index-core<0.11.0,>=0.10.35->llama-index) (0.6.0)\n",
      "Requirement already satisfied: tqdm<5.0.0,>=4.66.1 in /home/guillaume/.cache/pypoetry/virtualenvs/forestbot-QnTDFiWY-py3.10/lib/python3.10/site-packages (from llama-index-core<0.11.0,>=0.10.35->llama-index) (4.66.2)\n",
      "Requirement already satisfied: typing-extensions>=4.5.0 in /home/guillaume/.cache/pypoetry/virtualenvs/forestbot-QnTDFiWY-py3.10/lib/python3.10/site-packages (from llama-index-core<0.11.0,>=0.10.35->llama-index) (4.11.0)\n",
      "Requirement already satisfied: typing-inspect>=0.8.0 in /home/guillaume/.cache/pypoetry/virtualenvs/forestbot-QnTDFiWY-py3.10/lib/python3.10/site-packages (from llama-index-core<0.11.0,>=0.10.35->llama-index) (0.9.0)\n",
      "Requirement already satisfied: wrapt in /home/guillaume/.cache/pypoetry/virtualenvs/forestbot-QnTDFiWY-py3.10/lib/python3.10/site-packages (from llama-index-core<0.11.0,>=0.10.35->llama-index) (1.16.0)\n",
      "Requirement already satisfied: beautifulsoup4<5.0.0,>=4.12.3 in /home/guillaume/.cache/pypoetry/virtualenvs/forestbot-QnTDFiWY-py3.10/lib/python3.10/site-packages (from llama-index-readers-file<0.2.0,>=0.1.4->llama-index) (4.12.3)\n",
      "Requirement already satisfied: pypdf<5.0.0,>=4.0.1 in /home/guillaume/.cache/pypoetry/virtualenvs/forestbot-QnTDFiWY-py3.10/lib/python3.10/site-packages (from llama-index-readers-file<0.2.0,>=0.1.4->llama-index) (4.2.0)\n",
      "Requirement already satisfied: striprtf<0.0.27,>=0.0.26 in /home/guillaume/.cache/pypoetry/virtualenvs/forestbot-QnTDFiWY-py3.10/lib/python3.10/site-packages (from llama-index-readers-file<0.2.0,>=0.1.4->llama-index) (0.0.26)\n",
      "Requirement already satisfied: llama-parse<0.5.0,>=0.4.0 in /home/guillaume/.cache/pypoetry/virtualenvs/forestbot-QnTDFiWY-py3.10/lib/python3.10/site-packages (from llama-index-readers-llama-parse<0.2.0,>=0.1.2->llama-index) (0.4.3)\n",
      "Requirement already satisfied: aiosignal>=1.1.2 in /home/guillaume/.cache/pypoetry/virtualenvs/forestbot-QnTDFiWY-py3.10/lib/python3.10/site-packages (from aiohttp<4.0.0,>=3.8.6->llama-index-core<0.11.0,>=0.10.35->llama-index) (1.3.1)\n",
      "Requirement already satisfied: attrs>=17.3.0 in /home/guillaume/.cache/pypoetry/virtualenvs/forestbot-QnTDFiWY-py3.10/lib/python3.10/site-packages (from aiohttp<4.0.0,>=3.8.6->llama-index-core<0.11.0,>=0.10.35->llama-index) (23.2.0)\n",
      "Requirement already satisfied: frozenlist>=1.1.1 in /home/guillaume/.cache/pypoetry/virtualenvs/forestbot-QnTDFiWY-py3.10/lib/python3.10/site-packages (from aiohttp<4.0.0,>=3.8.6->llama-index-core<0.11.0,>=0.10.35->llama-index) (1.4.1)\n",
      "Requirement already satisfied: multidict<7.0,>=4.5 in /home/guillaume/.cache/pypoetry/virtualenvs/forestbot-QnTDFiWY-py3.10/lib/python3.10/site-packages (from aiohttp<4.0.0,>=3.8.6->llama-index-core<0.11.0,>=0.10.35->llama-index) (6.0.5)\n",
      "Requirement already satisfied: yarl<2.0,>=1.0 in /home/guillaume/.cache/pypoetry/virtualenvs/forestbot-QnTDFiWY-py3.10/lib/python3.10/site-packages (from aiohttp<4.0.0,>=3.8.6->llama-index-core<0.11.0,>=0.10.35->llama-index) (1.9.4)\n",
      "Requirement already satisfied: async-timeout<5.0,>=4.0 in /home/guillaume/.cache/pypoetry/virtualenvs/forestbot-QnTDFiWY-py3.10/lib/python3.10/site-packages (from aiohttp<4.0.0,>=3.8.6->llama-index-core<0.11.0,>=0.10.35->llama-index) (4.0.3)\n",
      "Requirement already satisfied: soupsieve>1.2 in /home/guillaume/.cache/pypoetry/virtualenvs/forestbot-QnTDFiWY-py3.10/lib/python3.10/site-packages (from beautifulsoup4<5.0.0,>=4.12.3->llama-index-readers-file<0.2.0,>=0.1.4->llama-index) (2.5)\n",
      "Requirement already satisfied: ply in /home/guillaume/.cache/pypoetry/virtualenvs/forestbot-QnTDFiWY-py3.10/lib/python3.10/site-packages (from jsonpath-ng<2.0.0,>=1.6.0->llama-index-core<0.11.0,>=0.10.35->llama-index) (3.11)\n",
      "Requirement already satisfied: pydantic>=1.10 in /home/guillaume/.cache/pypoetry/virtualenvs/forestbot-QnTDFiWY-py3.10/lib/python3.10/site-packages (from llamaindex-py-client<0.2.0,>=0.1.18->llama-index-core<0.11.0,>=0.10.35->llama-index) (2.7.1)\n",
      "Requirement already satisfied: anyio in /home/guillaume/.cache/pypoetry/virtualenvs/forestbot-QnTDFiWY-py3.10/lib/python3.10/site-packages (from httpx->llama-index-core<0.11.0,>=0.10.35->llama-index) (4.3.0)\n",
      "Requirement already satisfied: certifi in /home/guillaume/.cache/pypoetry/virtualenvs/forestbot-QnTDFiWY-py3.10/lib/python3.10/site-packages (from httpx->llama-index-core<0.11.0,>=0.10.35->llama-index) (2024.2.2)\n",
      "Requirement already satisfied: httpcore==1.* in /home/guillaume/.cache/pypoetry/virtualenvs/forestbot-QnTDFiWY-py3.10/lib/python3.10/site-packages (from httpx->llama-index-core<0.11.0,>=0.10.35->llama-index) (1.0.5)\n",
      "Requirement already satisfied: idna in /home/guillaume/.cache/pypoetry/virtualenvs/forestbot-QnTDFiWY-py3.10/lib/python3.10/site-packages (from httpx->llama-index-core<0.11.0,>=0.10.35->llama-index) (3.7)\n",
      "Requirement already satisfied: sniffio in /home/guillaume/.cache/pypoetry/virtualenvs/forestbot-QnTDFiWY-py3.10/lib/python3.10/site-packages (from httpx->llama-index-core<0.11.0,>=0.10.35->llama-index) (1.3.1)\n",
      "Requirement already satisfied: h11<0.15,>=0.13 in /home/guillaume/.cache/pypoetry/virtualenvs/forestbot-QnTDFiWY-py3.10/lib/python3.10/site-packages (from httpcore==1.*->httpx->llama-index-core<0.11.0,>=0.10.35->llama-index) (0.14.0)\n",
      "Requirement already satisfied: click in /home/guillaume/.cache/pypoetry/virtualenvs/forestbot-QnTDFiWY-py3.10/lib/python3.10/site-packages (from nltk<4.0.0,>=3.8.1->llama-index-core<0.11.0,>=0.10.35->llama-index) (8.1.7)\n",
      "Requirement already satisfied: joblib in /home/guillaume/.cache/pypoetry/virtualenvs/forestbot-QnTDFiWY-py3.10/lib/python3.10/site-packages (from nltk<4.0.0,>=3.8.1->llama-index-core<0.11.0,>=0.10.35->llama-index) (1.4.0)\n",
      "Requirement already satisfied: regex>=2021.8.3 in /home/guillaume/.cache/pypoetry/virtualenvs/forestbot-QnTDFiWY-py3.10/lib/python3.10/site-packages (from nltk<4.0.0,>=3.8.1->llama-index-core<0.11.0,>=0.10.35->llama-index) (2024.4.28)\n",
      "Requirement already satisfied: distro<2,>=1.7.0 in /home/guillaume/.cache/pypoetry/virtualenvs/forestbot-QnTDFiWY-py3.10/lib/python3.10/site-packages (from openai>=1.14.0->llama-index-agent-openai<0.3.0,>=0.1.4->llama-index) (1.9.0)\n",
      "Requirement already satisfied: charset-normalizer<4,>=2 in /home/guillaume/.cache/pypoetry/virtualenvs/forestbot-QnTDFiWY-py3.10/lib/python3.10/site-packages (from requests>=2.31.0->llama-index-core<0.11.0,>=0.10.35->llama-index) (3.3.2)\n",
      "Requirement already satisfied: urllib3<3,>=1.21.1 in /home/guillaume/.cache/pypoetry/virtualenvs/forestbot-QnTDFiWY-py3.10/lib/python3.10/site-packages (from requests>=2.31.0->llama-index-core<0.11.0,>=0.10.35->llama-index) (2.2.1)\n",
      "Requirement already satisfied: spacy-legacy<3.1.0,>=3.0.11 in /home/guillaume/.cache/pypoetry/virtualenvs/forestbot-QnTDFiWY-py3.10/lib/python3.10/site-packages (from spacy<4.0.0,>=3.7.1->llama-index-core<0.11.0,>=0.10.35->llama-index) (3.0.12)\n",
      "Requirement already satisfied: spacy-loggers<2.0.0,>=1.0.0 in /home/guillaume/.cache/pypoetry/virtualenvs/forestbot-QnTDFiWY-py3.10/lib/python3.10/site-packages (from spacy<4.0.0,>=3.7.1->llama-index-core<0.11.0,>=0.10.35->llama-index) (1.0.5)\n",
      "Requirement already satisfied: murmurhash<1.1.0,>=0.28.0 in /home/guillaume/.cache/pypoetry/virtualenvs/forestbot-QnTDFiWY-py3.10/lib/python3.10/site-packages (from spacy<4.0.0,>=3.7.1->llama-index-core<0.11.0,>=0.10.35->llama-index) (1.0.10)\n",
      "Requirement already satisfied: cymem<2.1.0,>=2.0.2 in /home/guillaume/.cache/pypoetry/virtualenvs/forestbot-QnTDFiWY-py3.10/lib/python3.10/site-packages (from spacy<4.0.0,>=3.7.1->llama-index-core<0.11.0,>=0.10.35->llama-index) (2.0.8)\n",
      "Requirement already satisfied: preshed<3.1.0,>=3.0.2 in /home/guillaume/.cache/pypoetry/virtualenvs/forestbot-QnTDFiWY-py3.10/lib/python3.10/site-packages (from spacy<4.0.0,>=3.7.1->llama-index-core<0.11.0,>=0.10.35->llama-index) (3.0.9)\n",
      "Requirement already satisfied: thinc<8.3.0,>=8.2.2 in /home/guillaume/.cache/pypoetry/virtualenvs/forestbot-QnTDFiWY-py3.10/lib/python3.10/site-packages (from spacy<4.0.0,>=3.7.1->llama-index-core<0.11.0,>=0.10.35->llama-index) (8.2.3)\n",
      "Requirement already satisfied: wasabi<1.2.0,>=0.9.1 in /home/guillaume/.cache/pypoetry/virtualenvs/forestbot-QnTDFiWY-py3.10/lib/python3.10/site-packages (from spacy<4.0.0,>=3.7.1->llama-index-core<0.11.0,>=0.10.35->llama-index) (1.1.2)\n",
      "Requirement already satisfied: srsly<3.0.0,>=2.4.3 in /home/guillaume/.cache/pypoetry/virtualenvs/forestbot-QnTDFiWY-py3.10/lib/python3.10/site-packages (from spacy<4.0.0,>=3.7.1->llama-index-core<0.11.0,>=0.10.35->llama-index) (2.4.8)\n",
      "Requirement already satisfied: catalogue<2.1.0,>=2.0.6 in /home/guillaume/.cache/pypoetry/virtualenvs/forestbot-QnTDFiWY-py3.10/lib/python3.10/site-packages (from spacy<4.0.0,>=3.7.1->llama-index-core<0.11.0,>=0.10.35->llama-index) (2.0.10)\n",
      "Requirement already satisfied: weasel<0.4.0,>=0.1.0 in /home/guillaume/.cache/pypoetry/virtualenvs/forestbot-QnTDFiWY-py3.10/lib/python3.10/site-packages (from spacy<4.0.0,>=3.7.1->llama-index-core<0.11.0,>=0.10.35->llama-index) (0.3.4)\n",
      "Requirement already satisfied: typer<0.10.0,>=0.3.0 in /home/guillaume/.cache/pypoetry/virtualenvs/forestbot-QnTDFiWY-py3.10/lib/python3.10/site-packages (from spacy<4.0.0,>=3.7.1->llama-index-core<0.11.0,>=0.10.35->llama-index) (0.9.4)\n",
      "Requirement already satisfied: smart-open<7.0.0,>=5.2.1 in /home/guillaume/.cache/pypoetry/virtualenvs/forestbot-QnTDFiWY-py3.10/lib/python3.10/site-packages (from spacy<4.0.0,>=3.7.1->llama-index-core<0.11.0,>=0.10.35->llama-index) (6.4.0)\n",
      "Requirement already satisfied: jinja2 in /home/guillaume/.cache/pypoetry/virtualenvs/forestbot-QnTDFiWY-py3.10/lib/python3.10/site-packages (from spacy<4.0.0,>=3.7.1->llama-index-core<0.11.0,>=0.10.35->llama-index) (3.1.3)\n",
      "Requirement already satisfied: setuptools in /home/guillaume/.cache/pypoetry/virtualenvs/forestbot-QnTDFiWY-py3.10/lib/python3.10/site-packages (from spacy<4.0.0,>=3.7.1->llama-index-core<0.11.0,>=0.10.35->llama-index) (69.5.1)\n",
      "Requirement already satisfied: packaging>=20.0 in /home/guillaume/.cache/pypoetry/virtualenvs/forestbot-QnTDFiWY-py3.10/lib/python3.10/site-packages (from spacy<4.0.0,>=3.7.1->llama-index-core<0.11.0,>=0.10.35->llama-index) (23.2)\n",
      "Requirement already satisfied: langcodes<4.0.0,>=3.2.0 in /home/guillaume/.cache/pypoetry/virtualenvs/forestbot-QnTDFiWY-py3.10/lib/python3.10/site-packages (from spacy<4.0.0,>=3.7.1->llama-index-core<0.11.0,>=0.10.35->llama-index) (3.4.0)\n",
      "Requirement already satisfied: greenlet!=0.4.17 in /home/guillaume/.cache/pypoetry/virtualenvs/forestbot-QnTDFiWY-py3.10/lib/python3.10/site-packages (from SQLAlchemy[asyncio]>=1.4.49->llama-index-core<0.11.0,>=0.10.35->llama-index) (3.0.3)\n",
      "Requirement already satisfied: mypy-extensions>=0.3.0 in /home/guillaume/.cache/pypoetry/virtualenvs/forestbot-QnTDFiWY-py3.10/lib/python3.10/site-packages (from typing-inspect>=0.8.0->llama-index-core<0.11.0,>=0.10.35->llama-index) (1.0.0)\n",
      "Requirement already satisfied: marshmallow<4.0.0,>=3.18.0 in /home/guillaume/.cache/pypoetry/virtualenvs/forestbot-QnTDFiWY-py3.10/lib/python3.10/site-packages (from dataclasses-json->llama-index-core<0.11.0,>=0.10.35->llama-index) (3.21.1)\n",
      "Requirement already satisfied: python-dateutil>=2.8.2 in /home/guillaume/.cache/pypoetry/virtualenvs/forestbot-QnTDFiWY-py3.10/lib/python3.10/site-packages (from pandas->llama-index-core<0.11.0,>=0.10.35->llama-index) (2.9.0.post0)\n",
      "Requirement already satisfied: pytz>=2020.1 in /home/guillaume/.cache/pypoetry/virtualenvs/forestbot-QnTDFiWY-py3.10/lib/python3.10/site-packages (from pandas->llama-index-core<0.11.0,>=0.10.35->llama-index) (2024.1)\n",
      "Requirement already satisfied: tzdata>=2022.7 in /home/guillaume/.cache/pypoetry/virtualenvs/forestbot-QnTDFiWY-py3.10/lib/python3.10/site-packages (from pandas->llama-index-core<0.11.0,>=0.10.35->llama-index) (2024.1)\n",
      "Requirement already satisfied: exceptiongroup>=1.0.2 in /home/guillaume/.cache/pypoetry/virtualenvs/forestbot-QnTDFiWY-py3.10/lib/python3.10/site-packages (from anyio->httpx->llama-index-core<0.11.0,>=0.10.35->llama-index) (1.2.1)\n",
      "Requirement already satisfied: language-data>=1.2 in /home/guillaume/.cache/pypoetry/virtualenvs/forestbot-QnTDFiWY-py3.10/lib/python3.10/site-packages (from langcodes<4.0.0,>=3.2.0->spacy<4.0.0,>=3.7.1->llama-index-core<0.11.0,>=0.10.35->llama-index) (1.2.0)\n",
      "Requirement already satisfied: annotated-types>=0.4.0 in /home/guillaume/.cache/pypoetry/virtualenvs/forestbot-QnTDFiWY-py3.10/lib/python3.10/site-packages (from pydantic>=1.10->llamaindex-py-client<0.2.0,>=0.1.18->llama-index-core<0.11.0,>=0.10.35->llama-index) (0.6.0)\n",
      "Requirement already satisfied: pydantic-core==2.18.2 in /home/guillaume/.cache/pypoetry/virtualenvs/forestbot-QnTDFiWY-py3.10/lib/python3.10/site-packages (from pydantic>=1.10->llamaindex-py-client<0.2.0,>=0.1.18->llama-index-core<0.11.0,>=0.10.35->llama-index) (2.18.2)\n",
      "Requirement already satisfied: six>=1.5 in /home/guillaume/.cache/pypoetry/virtualenvs/forestbot-QnTDFiWY-py3.10/lib/python3.10/site-packages (from python-dateutil>=2.8.2->pandas->llama-index-core<0.11.0,>=0.10.35->llama-index) (1.16.0)\n",
      "Requirement already satisfied: blis<0.8.0,>=0.7.8 in /home/guillaume/.cache/pypoetry/virtualenvs/forestbot-QnTDFiWY-py3.10/lib/python3.10/site-packages (from thinc<8.3.0,>=8.2.2->spacy<4.0.0,>=3.7.1->llama-index-core<0.11.0,>=0.10.35->llama-index) (0.7.11)\n",
      "Requirement already satisfied: confection<1.0.0,>=0.0.1 in /home/guillaume/.cache/pypoetry/virtualenvs/forestbot-QnTDFiWY-py3.10/lib/python3.10/site-packages (from thinc<8.3.0,>=8.2.2->spacy<4.0.0,>=3.7.1->llama-index-core<0.11.0,>=0.10.35->llama-index) (0.1.4)\n",
      "Requirement already satisfied: cloudpathlib<0.17.0,>=0.7.0 in /home/guillaume/.cache/pypoetry/virtualenvs/forestbot-QnTDFiWY-py3.10/lib/python3.10/site-packages (from weasel<0.4.0,>=0.1.0->spacy<4.0.0,>=3.7.1->llama-index-core<0.11.0,>=0.10.35->llama-index) (0.16.0)\n",
      "Requirement already satisfied: MarkupSafe>=2.0 in /home/guillaume/.cache/pypoetry/virtualenvs/forestbot-QnTDFiWY-py3.10/lib/python3.10/site-packages (from jinja2->spacy<4.0.0,>=3.7.1->llama-index-core<0.11.0,>=0.10.35->llama-index) (2.1.5)\n",
      "Requirement already satisfied: marisa-trie>=0.7.7 in /home/guillaume/.cache/pypoetry/virtualenvs/forestbot-QnTDFiWY-py3.10/lib/python3.10/site-packages (from language-data>=1.2->langcodes<4.0.0,>=3.2.0->spacy<4.0.0,>=3.7.1->llama-index-core<0.11.0,>=0.10.35->llama-index) (1.1.1)\n",
      "\n",
      "\u001b[1m[\u001b[0m\u001b[34;49mnotice\u001b[0m\u001b[1;39;49m]\u001b[0m\u001b[39;49m A new release of pip is available: \u001b[0m\u001b[31;49m23.2.1\u001b[0m\u001b[39;49m -> \u001b[0m\u001b[32;49m24.0\u001b[0m\n",
      "\u001b[1m[\u001b[0m\u001b[34;49mnotice\u001b[0m\u001b[1;39;49m]\u001b[0m\u001b[39;49m To update, run: \u001b[0m\u001b[32;49mpip install --upgrade pip\u001b[0m\n",
      "Note: you may need to restart the kernel to use updated packages.\n",
      "Requirement already satisfied: mistralai in /home/guillaume/.cache/pypoetry/virtualenvs/forestbot-QnTDFiWY-py3.10/lib/python3.10/site-packages (0.3.0)\n",
      "Requirement already satisfied: httpx<1,>=0.25.2 in /home/guillaume/.cache/pypoetry/virtualenvs/forestbot-QnTDFiWY-py3.10/lib/python3.10/site-packages (from mistralai) (0.27.0)\n",
      "Requirement already satisfied: orjson<4.0.0,>=3.9.10 in /home/guillaume/.cache/pypoetry/virtualenvs/forestbot-QnTDFiWY-py3.10/lib/python3.10/site-packages (from mistralai) (3.10.1)\n",
      "Requirement already satisfied: pydantic<3.0.0,>=2.5.2 in /home/guillaume/.cache/pypoetry/virtualenvs/forestbot-QnTDFiWY-py3.10/lib/python3.10/site-packages (from mistralai) (2.7.1)\n",
      "Requirement already satisfied: anyio in /home/guillaume/.cache/pypoetry/virtualenvs/forestbot-QnTDFiWY-py3.10/lib/python3.10/site-packages (from httpx<1,>=0.25.2->mistralai) (4.3.0)\n",
      "Requirement already satisfied: certifi in /home/guillaume/.cache/pypoetry/virtualenvs/forestbot-QnTDFiWY-py3.10/lib/python3.10/site-packages (from httpx<1,>=0.25.2->mistralai) (2024.2.2)\n",
      "Requirement already satisfied: httpcore==1.* in /home/guillaume/.cache/pypoetry/virtualenvs/forestbot-QnTDFiWY-py3.10/lib/python3.10/site-packages (from httpx<1,>=0.25.2->mistralai) (1.0.5)\n",
      "Requirement already satisfied: idna in /home/guillaume/.cache/pypoetry/virtualenvs/forestbot-QnTDFiWY-py3.10/lib/python3.10/site-packages (from httpx<1,>=0.25.2->mistralai) (3.7)\n",
      "Requirement already satisfied: sniffio in /home/guillaume/.cache/pypoetry/virtualenvs/forestbot-QnTDFiWY-py3.10/lib/python3.10/site-packages (from httpx<1,>=0.25.2->mistralai) (1.3.1)\n",
      "Requirement already satisfied: h11<0.15,>=0.13 in /home/guillaume/.cache/pypoetry/virtualenvs/forestbot-QnTDFiWY-py3.10/lib/python3.10/site-packages (from httpcore==1.*->httpx<1,>=0.25.2->mistralai) (0.14.0)\n",
      "Requirement already satisfied: annotated-types>=0.4.0 in /home/guillaume/.cache/pypoetry/virtualenvs/forestbot-QnTDFiWY-py3.10/lib/python3.10/site-packages (from pydantic<3.0.0,>=2.5.2->mistralai) (0.6.0)\n",
      "Requirement already satisfied: pydantic-core==2.18.2 in /home/guillaume/.cache/pypoetry/virtualenvs/forestbot-QnTDFiWY-py3.10/lib/python3.10/site-packages (from pydantic<3.0.0,>=2.5.2->mistralai) (2.18.2)\n",
      "Requirement already satisfied: typing-extensions>=4.6.1 in /home/guillaume/.cache/pypoetry/virtualenvs/forestbot-QnTDFiWY-py3.10/lib/python3.10/site-packages (from pydantic<3.0.0,>=2.5.2->mistralai) (4.11.0)\n",
      "Requirement already satisfied: exceptiongroup>=1.0.2 in /home/guillaume/.cache/pypoetry/virtualenvs/forestbot-QnTDFiWY-py3.10/lib/python3.10/site-packages (from anyio->httpx<1,>=0.25.2->mistralai) (1.2.1)\n",
      "\n",
      "\u001b[1m[\u001b[0m\u001b[34;49mnotice\u001b[0m\u001b[1;39;49m]\u001b[0m\u001b[39;49m A new release of pip is available: \u001b[0m\u001b[31;49m23.2.1\u001b[0m\u001b[39;49m -> \u001b[0m\u001b[32;49m24.0\u001b[0m\n",
      "\u001b[1m[\u001b[0m\u001b[34;49mnotice\u001b[0m\u001b[1;39;49m]\u001b[0m\u001b[39;49m To update, run: \u001b[0m\u001b[32;49mpip install --upgrade pip\u001b[0m\n",
      "Note: you may need to restart the kernel to use updated packages.\n"
     ]
    }
   ],
   "source": [
    "%pip install giskard[llm]==2.12.0\n",
    "%pip install llama-index PyMuPDF\n",
    "%pip install mistralai"
   ]
  },
  {
   "cell_type": "code",
   "execution_count": 2,
   "metadata": {},
   "outputs": [
    {
     "name": "stdout",
     "output_type": "stream",
     "text": [
      "2024-06-11 14:43:14,008 pid:232343 Thread-4 (_track) urllib3.connectionpool WARNING  Retrying (Retry(total=3, connect=None, read=None, redirect=None, status=None)) after connection broken by 'SSLError(SSLCertVerificationError(1, '[SSL: CERTIFICATE_VERIFY_FAILED] certificate verify failed: unable to get local issuer certificate (_ssl.c:1007)'))': /engage\n",
      "2024-06-11 14:43:15,789 pid:232343 Thread-4 (_track) urllib3.connectionpool WARNING  Retrying (Retry(total=2, connect=None, read=None, redirect=None, status=None)) after connection broken by 'SSLError(SSLCertVerificationError(1, '[SSL: CERTIFICATE_VERIFY_FAILED] certificate verify failed: unable to get local issuer certificate (_ssl.c:1007)'))': /engage\n",
      "2024-06-11 14:43:18,211 pid:232343 Thread-4 (_track) urllib3.connectionpool WARNING  Retrying (Retry(total=1, connect=None, read=None, redirect=None, status=None)) after connection broken by 'SSLError(SSLCertVerificationError(1, '[SSL: CERTIFICATE_VERIFY_FAILED] certificate verify failed: unable to get local issuer certificate (_ssl.c:1007)'))': /engage\n",
      "2024-06-11 14:43:21,215 pid:232343 Thread-4 (_track) urllib3.connectionpool WARNING  Retrying (Retry(total=0, connect=None, read=None, redirect=None, status=None)) after connection broken by 'SSLError(SSLCertVerificationError(1, '[SSL: CERTIFICATE_VERIFY_FAILED] certificate verify failed: unable to get local issuer certificate (_ssl.c:1007)'))': /engage\n"
     ]
    }
   ],
   "source": [
    "import giskard\n",
    "import pandas as pd\n",
    "import warnings\n"
   ]
  },
  {
   "cell_type": "code",
   "execution_count": 3,
   "metadata": {},
   "outputs": [
    {
     "data": {
      "text/plain": [
       "True"
      ]
     },
     "execution_count": 3,
     "metadata": {},
     "output_type": "execute_result"
    }
   ],
   "source": [
    "# Import the required modules\n",
    "import os\n",
    "from dotenv import load_dotenv, find_dotenv\n",
    "\n",
    "# Load environment variables from .env file\n",
    "# If the .env file is not found, raise an error\n",
    "load_dotenv(find_dotenv(raise_error_if_not_found=True))"
   ]
  },
  {
   "cell_type": "code",
   "execution_count": 4,
   "metadata": {},
   "outputs": [
    {
     "name": "stdout",
     "output_type": "stream",
     "text": [
      "MISTRAL_API_KEY successfully loaded.\n"
     ]
    }
   ],
   "source": [
    "# Retrieve the MISTRAL_API_KEY from the environment variables\n",
    "MISTRAL_API_KEY = os.getenv(\"MISTRAL_API_KEY\")\n",
    "# Check if the MISTRAL_API_KEY is defined\n",
    "# If not, raise an EnvironmentError with a descriptive message\n",
    "if not MISTRAL_API_KEY:\n",
    "    raise EnvironmentError(\"MISTRAL_API_KEY not defined in the .env file\")\n",
    "\n",
    "# If the MISTRAL_API_KEY is defined, print a success message\n",
    "print(\"MISTRAL_API_KEY successfully loaded.\")"
   ]
  },
  {
   "cell_type": "code",
   "execution_count": 5,
   "metadata": {},
   "outputs": [],
   "source": [
    "pd.set_option(\"display.max_colwidth\", 400)\n",
    "warnings.filterwarnings('ignore')\n",
    "\n",
    "from llama_index.core import VectorStoreIndex\n",
    "from llama_index.core.node_parser import SentenceSplitter\n",
    "from llama_index.readers.file import PyMuPDFReader\n",
    "from llama_index.core.base.llms.types import ChatMessage, MessageRole\n",
    "import fitz  # PyMuPDF\n",
    "\n",
    "\n",
    "# Instancier le loader\n",
    "loader = PyMuPDFReader()\n",
    "\n",
    "\n",
    "OFAC_document = loader.load(file_path=\"SOF+EdAP_page_1to20.pdf\")  #I generate a file with the 20 first page of each file\n",
    "splitter = SentenceSplitter(chunk_size=512)"
   ]
  },
  {
   "cell_type": "code",
   "execution_count": 6,
   "metadata": {},
   "outputs": [
    {
     "name": "stdout",
     "output_type": "stream",
     "text": [
      "2024-06-11 14:43:54,361 pid:232343 Thread-5 (_track) urllib3.connectionpool WARNING  Retrying (Retry(total=3, connect=None, read=None, redirect=None, status=None)) after connection broken by 'SSLError(SSLCertVerificationError(1, '[SSL: CERTIFICATE_VERIFY_FAILED] certificate verify failed: unable to get local issuer certificate (_ssl.c:1007)'))': /track\n",
      "2024-06-11 14:43:55,943 pid:232343 Thread-5 (_track) urllib3.connectionpool WARNING  Retrying (Retry(total=2, connect=None, read=None, redirect=None, status=None)) after connection broken by 'SSLError(SSLCertVerificationError(1, '[SSL: CERTIFICATE_VERIFY_FAILED] certificate verify failed: unable to get local issuer certificate (_ssl.c:1007)'))': /track\n",
      "2024-06-11 14:43:58,231 pid:232343 Thread-5 (_track) urllib3.connectionpool WARNING  Retrying (Retry(total=1, connect=None, read=None, redirect=None, status=None)) after connection broken by 'SSLError(SSLCertVerificationError(1, '[SSL: CERTIFICATE_VERIFY_FAILED] certificate verify failed: unable to get local issuer certificate (_ssl.c:1007)'))': /track\n",
      "2024-06-11 14:44:01,584 pid:232343 Thread-5 (_track) urllib3.connectionpool WARNING  Retrying (Retry(total=0, connect=None, read=None, redirect=None, status=None)) after connection broken by 'SSLError(SSLCertVerificationError(1, '[SSL: CERTIFICATE_VERIFY_FAILED] certificate verify failed: unable to get local issuer certificate (_ssl.c:1007)'))': /track\n"
     ]
    }
   ],
   "source": [
    "from giskard.rag import KnowledgeBase, generate_testset, QATestset\n",
    "\n",
    "text_nodes = splitter(OFAC_document)\n",
    "knowledge_base_df = pd.DataFrame([node.text for node in text_nodes], columns=[\"text\"])\n",
    "knowledge_base = KnowledgeBase(knowledge_base_df)\n",
    "\n",
    "# Record the knowlegde base in CSV format to be reused\n",
    "knowledge_base_df.to_csv('knowledge_base.csv', index=False)"
   ]
  },
  {
   "cell_type": "markdown",
   "metadata": {},
   "source": [
    "## Generate a normal testset (40 questions)"
   ]
  },
  {
   "cell_type": "code",
   "execution_count": 7,
   "metadata": {},
   "outputs": [
    {
     "name": "stdout",
     "output_type": "stream",
     "text": [
      "2024-06-11 14:45:34,331 pid:232343 MainThread giskard.rag  INFO     Finding topics in the knowledge base.\n",
      "2024-06-11 14:45:49,429 pid:232343 MainThread giskard.rag  INFO     Found 5 topics in the knowledge base.\n"
     ]
    },
    {
     "data": {
      "application/vnd.jupyter.widget-view+json": {
       "model_id": "6a5731ef31204c83bdb9807828c84e25",
       "version_major": 2,
       "version_minor": 0
      },
      "text/plain": [
       "Generating questions:   0%|          | 0/40 [00:00<?, ?it/s]"
      ]
     },
     "metadata": {},
     "output_type": "display_data"
    },
    {
     "name": "stdout",
     "output_type": "stream",
     "text": [
      "2024-06-11 14:45:50,424 pid:232343 Thread-7 (_track) urllib3.connectionpool WARNING  Retrying (Retry(total=3, connect=None, read=None, redirect=None, status=None)) after connection broken by 'SSLError(SSLCertVerificationError(1, '[SSL: CERTIFICATE_VERIFY_FAILED] certificate verify failed: unable to get local issuer certificate (_ssl.c:1007)'))': /track\n",
      "2024-06-11 14:45:52,108 pid:232343 Thread-7 (_track) urllib3.connectionpool WARNING  Retrying (Retry(total=2, connect=None, read=None, redirect=None, status=None)) after connection broken by 'SSLError(SSLCertVerificationError(1, '[SSL: CERTIFICATE_VERIFY_FAILED] certificate verify failed: unable to get local issuer certificate (_ssl.c:1007)'))': /track\n",
      "2024-06-11 14:45:54,222 pid:232343 Thread-7 (_track) urllib3.connectionpool WARNING  Retrying (Retry(total=1, connect=None, read=None, redirect=None, status=None)) after connection broken by 'SSLError(SSLCertVerificationError(1, '[SSL: CERTIFICATE_VERIFY_FAILED] certificate verify failed: unable to get local issuer certificate (_ssl.c:1007)'))': /track\n",
      "2024-06-11 14:45:57,311 pid:232343 Thread-7 (_track) urllib3.connectionpool WARNING  Retrying (Retry(total=0, connect=None, read=None, redirect=None, status=None)) after connection broken by 'SSLError(SSLCertVerificationError(1, '[SSL: CERTIFICATE_VERIFY_FAILED] certificate verify failed: unable to get local issuer certificate (_ssl.c:1007)'))': /track\n"
     ]
    },
    {
     "name": "stdout",
     "output_type": "stream",
     "text": [
      "2024-06-11 14:51:38,241 pid:232343 Thread-8 (_track) urllib3.connectionpool WARNING  Retrying (Retry(total=3, connect=None, read=None, redirect=None, status=None)) after connection broken by 'SSLError(SSLCertVerificationError(1, '[SSL: CERTIFICATE_VERIFY_FAILED] certificate verify failed: unable to get local issuer certificate (_ssl.c:1007)'))': /track\n",
      "2024-06-11 14:51:40,300 pid:232343 Thread-8 (_track) urllib3.connectionpool WARNING  Retrying (Retry(total=2, connect=None, read=None, redirect=None, status=None)) after connection broken by 'SSLError(SSLCertVerificationError(1, '[SSL: CERTIFICATE_VERIFY_FAILED] certificate verify failed: unable to get local issuer certificate (_ssl.c:1007)'))': /track\n",
      "2024-06-11 14:51:42,528 pid:232343 Thread-8 (_track) urllib3.connectionpool WARNING  Retrying (Retry(total=1, connect=None, read=None, redirect=None, status=None)) after connection broken by 'SSLError(SSLCertVerificationError(1, '[SSL: CERTIFICATE_VERIFY_FAILED] certificate verify failed: unable to get local issuer certificate (_ssl.c:1007)'))': /track\n",
      "2024-06-11 14:51:46,013 pid:232343 Thread-8 (_track) urllib3.connectionpool WARNING  Retrying (Retry(total=0, connect=None, read=None, redirect=None, status=None)) after connection broken by 'SSLError(SSLCertVerificationError(1, '[SSL: CERTIFICATE_VERIFY_FAILED] certificate verify failed: unable to get local issuer certificate (_ssl.c:1007)'))': /track\n"
     ]
    }
   ],
   "source": [
    "testset = generate_testset(knowledge_base,\n",
    "                           num_questions=40,\n",
    "                           agent_description=\"A chatbot answering questions about the Forest protection and Conservation Area in Central Africa and Congo Basin\")\n",
    "testset.to_pandas().to_csv(\"testset.csv\")\n",
    "testset.save(\"testset.jsonl\")"
   ]
  },
  {
   "cell_type": "code",
   "execution_count": 24,
   "metadata": {},
   "outputs": [],
   "source": []
  },
  {
   "cell_type": "markdown",
   "metadata": {},
   "source": [
    "## Generate a reduce testset"
   ]
  },
  {
   "cell_type": "code",
   "execution_count": 25,
   "metadata": {},
   "outputs": [
    {
     "data": {
      "application/vnd.jupyter.widget-view+json": {
       "model_id": "a893170388ba4fe08463d9169aa3e588",
       "version_major": 2,
       "version_minor": 0
      },
      "text/plain": [
       "Generating questions:   0%|          | 0/5 [00:00<?, ?it/s]"
      ]
     },
     "metadata": {},
     "output_type": "display_data"
    },
    {
     "name": "stdout",
     "output_type": "stream",
     "text": [
      "2024-06-04 10:20:13,007 pid:30415 Thread-26 (_track) urllib3.connectionpool WARNING  Retrying (Retry(total=3, connect=None, read=None, redirect=None, status=None)) after connection broken by 'NameResolutionError(\"<urllib3.connection.HTTPSConnection object at 0x7ff9403bcb20>: Failed to resolve 'api.mixpanel.com' ([Errno -2] Name or service not known)\")': /track\n",
      "2024-06-04 10:20:14,088 pid:30415 Thread-26 (_track) urllib3.connectionpool WARNING  Retrying (Retry(total=2, connect=None, read=None, redirect=None, status=None)) after connection broken by 'NameResolutionError(\"<urllib3.connection.HTTPSConnection object at 0x7ff9560efb20>: Failed to resolve 'api.mixpanel.com' ([Errno -2] Name or service not known)\")': /track\n",
      "2024-06-04 10:20:15,678 pid:30415 Thread-26 (_track) urllib3.connectionpool WARNING  Retrying (Retry(total=1, connect=None, read=None, redirect=None, status=None)) after connection broken by 'NameResolutionError(\"<urllib3.connection.HTTPSConnection object at 0x7ff9560ee680>: Failed to resolve 'api.mixpanel.com' ([Errno -2] Name or service not known)\")': /track\n",
      "2024-06-04 10:20:18,257 pid:30415 Thread-26 (_track) urllib3.connectionpool WARNING  Retrying (Retry(total=0, connect=None, read=None, redirect=None, status=None)) after connection broken by 'NameResolutionError(\"<urllib3.connection.HTTPSConnection object at 0x7ff9560ed960>: Failed to resolve 'api.mixpanel.com' ([Errno -2] Name or service not known)\")': /track\n"
     ]
    }
   ],
   "source": [
    "reduce_testset = generate_testset(knowledge_base,\n",
    "                           num_questions=5,\n",
    "                           agent_description=\"A chatbot answering questions about the Forest protection and Conservation Area in Central Africa and Congo Basin\")\n",
    "reduce_testset.to_pandas().to_csv(\"reduce_testset.csv\")\n",
    "reduce_testset.save(\"reduce_testset.jsonl\")"
   ]
  }
 ],
 "metadata": {
  "kernelspec": {
   "display_name": "forestbot-QnTDFiWY-py3.10",
   "language": "python",
   "name": "python3"
  },
  "language_info": {
   "codemirror_mode": {
    "name": "ipython",
    "version": 3
   },
   "file_extension": ".py",
   "mimetype": "text/x-python",
   "name": "python",
   "nbconvert_exporter": "python",
   "pygments_lexer": "ipython3",
   "version": "3.10.12"
  }
 },
 "nbformat": 4,
 "nbformat_minor": 2
}
